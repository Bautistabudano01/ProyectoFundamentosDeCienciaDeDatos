{
  "nbformat": 4,
  "nbformat_minor": 0,
  "metadata": {
    "colab": {
      "provenance": [],
      "mount_file_id": "1Ql9j4UqR7qrgDzN9qElJwJnErlnTnPjq",
      "authorship_tag": "ABX9TyOPt4GX5k3LmHu2/97ogAji",
      "include_colab_link": true
    },
    "kernelspec": {
      "name": "python3",
      "display_name": "Python 3"
    },
    "language_info": {
      "name": "python"
    }
  },
  "cells": [
    {
      "cell_type": "markdown",
      "metadata": {
        "id": "view-in-github",
        "colab_type": "text"
      },
      "source": [
        "<a href=\"https://colab.research.google.com/github/Bautistabudano01/ProyectoFundamentosDeCienciaDeDatos/blob/main/ProyectoDSParteI_Budano.ipynb\" target=\"_parent\"><img src=\"https://colab.research.google.com/assets/colab-badge.svg\" alt=\"Open In Colab\"/></a>"
      ]
    },
    {
      "cell_type": "markdown",
      "source": [
        "### Abstract\n",
        "\n",
        "En las últimas décadas, la salud mental de los estudiantes universitarios ha adquirido una creciente relevancia, impulsada por factores como el estrés académico, el aislamiento social y la incertidumbre económica. En el contexto argentino, donde las tasas de deserción y abandono son elevadas, entender los factores que afectan el bienestar emocional puede ofrecer herramientas valiosas para mejorar la retención en el nivel superior.\n",
        "\n",
        "Esta problemática no surge únicamente desde lo estadístico o institucional, sino también desde experiencias personales y cercanas. Muchos estudiantes atraviesan etapas de gran frustración académica que impactan directamente en su salud emocional, generando desmotivación, ansiedad o incluso depresión. En particular, quienes deben compaginar el estudio con un trabajo de tiempo parcial o completo, enfrentan un nivel de exigencia y cansancio que puede tornarse insostenible si los resultados académicos no acompañan.\n",
        "\n",
        "En este proyecto se utilizará un dataset sobre salud mental de estudiantes universitarios, que incluye variables relacionadas con el sueño, el estrés, la vida social, el uso de redes sociales, entre otras. El análisis buscará identificar patrones y relaciones entre estas variables y los niveles de ansiedad y depresión reportados por los estudiantes, con el objetivo de detectar perfiles de riesgo.\n",
        "\n",
        "Este tipo de abordajes puede servir como base para generar estrategias de acompañamiento más efectivas, tanto desde el ámbito educativo como desde políticas públicas. Al comprender mejor cómo interactúan estos factores, se podrán diseñar intervenciones más personalizadas y humanas que contribuyan a mejorar el bienestar y la permanencia en los estudios superiores.\n"
      ],
      "metadata": {
        "id": "dUzxN9pFNtS7"
      }
    },
    {
      "cell_type": "markdown",
      "source": [],
      "metadata": {
        "id": "STDPSc8zQR4o"
      }
    },
    {
      "cell_type": "markdown",
      "source": [
        "### Preguntas e hipótesis de interés\n",
        "\n",
        "**Preguntas principales del análisis:**\n",
        "\n",
        "1. ¿Existe relación entre la duración del sueño y los niveles de depresión reportados por los estudiantes?\n",
        "2. ¿Los estudiantes con mayores niveles de estrés tienden a presentar más ansiedad y depresión?\n",
        "3. ¿El uso excesivo de redes sociales está asociado a un mayor malestar emocional?\n",
        "4. ¿El año de cursada o el curso influyen en los niveles de salud mental?\n",
        "5. ¿Las mujeres reportan niveles más altos de ansiedad o depresión en comparación con otros géneros?\n",
        "\n",
        "**Hipótesis iniciales:**\n",
        "\n",
        "- H1: Los estudiantes que duermen menos de 6 horas presentan mayores niveles de depresión.\n",
        "- H2: A mayor nivel de estrés declarado, mayor es la probabilidad de reportar ansiedad o síntomas depresivos.\n",
        "- H3: El uso intenso de redes sociales (más de 4 horas diarias) está asociado a peores indicadores de salud emocional.\n",
        "- H4: Los estudiantes de años superiores (3º, 4º, 5º) presentan mayores niveles de agotamiento y depresión que los de primer año.\n",
        "- H5: Los estudiantes que además trabajan presentan mayores niveles de estrés, depresión o insatisfacción con sus estudios, en comparación con los que solo estudian.\n",
        "\n",
        "Estas preguntas y supuestos guiarán el análisis exploratorio y las visualizaciones que se desarrollarán en el resto del proyecto.\n"
      ],
      "metadata": {
        "id": "1NnN-yC3QGFW"
      }
    },
    {
      "cell_type": "code",
      "execution_count": null,
      "metadata": {
        "id": "FqPXRe1DeHxx"
      },
      "outputs": [],
      "source": [
        "import pandas as pd"
      ]
    },
    {
      "cell_type": "code",
      "source": [
        "archivo = \"/content/drive/MyDrive/dataset science/student_depression_dataset.csv\"\n",
        "df = pd.read_csv(archivo, index_col= \"id\")\n",
        "df.head(5)"
      ],
      "metadata": {
        "colab": {
          "base_uri": "https://localhost:8080/",
          "height": 238
        },
        "id": "cOUZXiLpqwHl",
        "outputId": "ca3cd2b9-3044-49ef-ba6b-32d598fce4d0"
      },
      "execution_count": null,
      "outputs": [
        {
          "output_type": "execute_result",
          "data": {
            "text/plain": [
              "    Gender   Age           City Profession  Academic Pressure  Work Pressure  \\\n",
              "id                                                                             \n",
              "2     Male  33.0  Visakhapatnam    Student                5.0            0.0   \n",
              "8   Female  24.0      Bangalore    Student                2.0            0.0   \n",
              "26    Male  31.0       Srinagar    Student                3.0            0.0   \n",
              "30  Female  28.0       Varanasi    Student                3.0            0.0   \n",
              "32  Female  25.0         Jaipur    Student                4.0            0.0   \n",
              "\n",
              "    CGPA  Study Satisfaction  Job Satisfaction       Sleep Duration  \\\n",
              "id                                                                    \n",
              "2   8.97                 2.0               0.0          '5-6 hours'   \n",
              "8   5.90                 5.0               0.0          '5-6 hours'   \n",
              "26  7.03                 5.0               0.0  'Less than 5 hours'   \n",
              "30  5.59                 2.0               0.0          '7-8 hours'   \n",
              "32  8.13                 3.0               0.0          '5-6 hours'   \n",
              "\n",
              "   Dietary Habits   Degree Have you ever had suicidal thoughts ?  \\\n",
              "id                                                                 \n",
              "2         Healthy  B.Pharm                                   Yes   \n",
              "8        Moderate      BSc                                    No   \n",
              "26        Healthy       BA                                    No   \n",
              "30       Moderate      BCA                                   Yes   \n",
              "32       Moderate   M.Tech                                   Yes   \n",
              "\n",
              "    Work/Study Hours Financial Stress Family History of Mental Illness  \\\n",
              "id                                                                       \n",
              "2                3.0              1.0                               No   \n",
              "8                3.0              2.0                              Yes   \n",
              "26               9.0              1.0                              Yes   \n",
              "30               4.0              5.0                              Yes   \n",
              "32               1.0              1.0                               No   \n",
              "\n",
              "    Depression  \n",
              "id              \n",
              "2            1  \n",
              "8            0  \n",
              "26           0  \n",
              "30           1  \n",
              "32           0  "
            ],
            "text/html": [
              "\n",
              "  <div id=\"df-7c5bed15-5887-4f43-ac66-cb56ad57a01a\" class=\"colab-df-container\">\n",
              "    <div>\n",
              "<style scoped>\n",
              "    .dataframe tbody tr th:only-of-type {\n",
              "        vertical-align: middle;\n",
              "    }\n",
              "\n",
              "    .dataframe tbody tr th {\n",
              "        vertical-align: top;\n",
              "    }\n",
              "\n",
              "    .dataframe thead th {\n",
              "        text-align: right;\n",
              "    }\n",
              "</style>\n",
              "<table border=\"1\" class=\"dataframe\">\n",
              "  <thead>\n",
              "    <tr style=\"text-align: right;\">\n",
              "      <th></th>\n",
              "      <th>Gender</th>\n",
              "      <th>Age</th>\n",
              "      <th>City</th>\n",
              "      <th>Profession</th>\n",
              "      <th>Academic Pressure</th>\n",
              "      <th>Work Pressure</th>\n",
              "      <th>CGPA</th>\n",
              "      <th>Study Satisfaction</th>\n",
              "      <th>Job Satisfaction</th>\n",
              "      <th>Sleep Duration</th>\n",
              "      <th>Dietary Habits</th>\n",
              "      <th>Degree</th>\n",
              "      <th>Have you ever had suicidal thoughts ?</th>\n",
              "      <th>Work/Study Hours</th>\n",
              "      <th>Financial Stress</th>\n",
              "      <th>Family History of Mental Illness</th>\n",
              "      <th>Depression</th>\n",
              "    </tr>\n",
              "    <tr>\n",
              "      <th>id</th>\n",
              "      <th></th>\n",
              "      <th></th>\n",
              "      <th></th>\n",
              "      <th></th>\n",
              "      <th></th>\n",
              "      <th></th>\n",
              "      <th></th>\n",
              "      <th></th>\n",
              "      <th></th>\n",
              "      <th></th>\n",
              "      <th></th>\n",
              "      <th></th>\n",
              "      <th></th>\n",
              "      <th></th>\n",
              "      <th></th>\n",
              "      <th></th>\n",
              "      <th></th>\n",
              "    </tr>\n",
              "  </thead>\n",
              "  <tbody>\n",
              "    <tr>\n",
              "      <th>2</th>\n",
              "      <td>Male</td>\n",
              "      <td>33.0</td>\n",
              "      <td>Visakhapatnam</td>\n",
              "      <td>Student</td>\n",
              "      <td>5.0</td>\n",
              "      <td>0.0</td>\n",
              "      <td>8.97</td>\n",
              "      <td>2.0</td>\n",
              "      <td>0.0</td>\n",
              "      <td>'5-6 hours'</td>\n",
              "      <td>Healthy</td>\n",
              "      <td>B.Pharm</td>\n",
              "      <td>Yes</td>\n",
              "      <td>3.0</td>\n",
              "      <td>1.0</td>\n",
              "      <td>No</td>\n",
              "      <td>1</td>\n",
              "    </tr>\n",
              "    <tr>\n",
              "      <th>8</th>\n",
              "      <td>Female</td>\n",
              "      <td>24.0</td>\n",
              "      <td>Bangalore</td>\n",
              "      <td>Student</td>\n",
              "      <td>2.0</td>\n",
              "      <td>0.0</td>\n",
              "      <td>5.90</td>\n",
              "      <td>5.0</td>\n",
              "      <td>0.0</td>\n",
              "      <td>'5-6 hours'</td>\n",
              "      <td>Moderate</td>\n",
              "      <td>BSc</td>\n",
              "      <td>No</td>\n",
              "      <td>3.0</td>\n",
              "      <td>2.0</td>\n",
              "      <td>Yes</td>\n",
              "      <td>0</td>\n",
              "    </tr>\n",
              "    <tr>\n",
              "      <th>26</th>\n",
              "      <td>Male</td>\n",
              "      <td>31.0</td>\n",
              "      <td>Srinagar</td>\n",
              "      <td>Student</td>\n",
              "      <td>3.0</td>\n",
              "      <td>0.0</td>\n",
              "      <td>7.03</td>\n",
              "      <td>5.0</td>\n",
              "      <td>0.0</td>\n",
              "      <td>'Less than 5 hours'</td>\n",
              "      <td>Healthy</td>\n",
              "      <td>BA</td>\n",
              "      <td>No</td>\n",
              "      <td>9.0</td>\n",
              "      <td>1.0</td>\n",
              "      <td>Yes</td>\n",
              "      <td>0</td>\n",
              "    </tr>\n",
              "    <tr>\n",
              "      <th>30</th>\n",
              "      <td>Female</td>\n",
              "      <td>28.0</td>\n",
              "      <td>Varanasi</td>\n",
              "      <td>Student</td>\n",
              "      <td>3.0</td>\n",
              "      <td>0.0</td>\n",
              "      <td>5.59</td>\n",
              "      <td>2.0</td>\n",
              "      <td>0.0</td>\n",
              "      <td>'7-8 hours'</td>\n",
              "      <td>Moderate</td>\n",
              "      <td>BCA</td>\n",
              "      <td>Yes</td>\n",
              "      <td>4.0</td>\n",
              "      <td>5.0</td>\n",
              "      <td>Yes</td>\n",
              "      <td>1</td>\n",
              "    </tr>\n",
              "    <tr>\n",
              "      <th>32</th>\n",
              "      <td>Female</td>\n",
              "      <td>25.0</td>\n",
              "      <td>Jaipur</td>\n",
              "      <td>Student</td>\n",
              "      <td>4.0</td>\n",
              "      <td>0.0</td>\n",
              "      <td>8.13</td>\n",
              "      <td>3.0</td>\n",
              "      <td>0.0</td>\n",
              "      <td>'5-6 hours'</td>\n",
              "      <td>Moderate</td>\n",
              "      <td>M.Tech</td>\n",
              "      <td>Yes</td>\n",
              "      <td>1.0</td>\n",
              "      <td>1.0</td>\n",
              "      <td>No</td>\n",
              "      <td>0</td>\n",
              "    </tr>\n",
              "  </tbody>\n",
              "</table>\n",
              "</div>\n",
              "    <div class=\"colab-df-buttons\">\n",
              "\n",
              "  <div class=\"colab-df-container\">\n",
              "    <button class=\"colab-df-convert\" onclick=\"convertToInteractive('df-7c5bed15-5887-4f43-ac66-cb56ad57a01a')\"\n",
              "            title=\"Convert this dataframe to an interactive table.\"\n",
              "            style=\"display:none;\">\n",
              "\n",
              "  <svg xmlns=\"http://www.w3.org/2000/svg\" height=\"24px\" viewBox=\"0 -960 960 960\">\n",
              "    <path d=\"M120-120v-720h720v720H120Zm60-500h600v-160H180v160Zm220 220h160v-160H400v160Zm0 220h160v-160H400v160ZM180-400h160v-160H180v160Zm440 0h160v-160H620v160ZM180-180h160v-160H180v160Zm440 0h160v-160H620v160Z\"/>\n",
              "  </svg>\n",
              "    </button>\n",
              "\n",
              "  <style>\n",
              "    .colab-df-container {\n",
              "      display:flex;\n",
              "      gap: 12px;\n",
              "    }\n",
              "\n",
              "    .colab-df-convert {\n",
              "      background-color: #E8F0FE;\n",
              "      border: none;\n",
              "      border-radius: 50%;\n",
              "      cursor: pointer;\n",
              "      display: none;\n",
              "      fill: #1967D2;\n",
              "      height: 32px;\n",
              "      padding: 0 0 0 0;\n",
              "      width: 32px;\n",
              "    }\n",
              "\n",
              "    .colab-df-convert:hover {\n",
              "      background-color: #E2EBFA;\n",
              "      box-shadow: 0px 1px 2px rgba(60, 64, 67, 0.3), 0px 1px 3px 1px rgba(60, 64, 67, 0.15);\n",
              "      fill: #174EA6;\n",
              "    }\n",
              "\n",
              "    .colab-df-buttons div {\n",
              "      margin-bottom: 4px;\n",
              "    }\n",
              "\n",
              "    [theme=dark] .colab-df-convert {\n",
              "      background-color: #3B4455;\n",
              "      fill: #D2E3FC;\n",
              "    }\n",
              "\n",
              "    [theme=dark] .colab-df-convert:hover {\n",
              "      background-color: #434B5C;\n",
              "      box-shadow: 0px 1px 3px 1px rgba(0, 0, 0, 0.15);\n",
              "      filter: drop-shadow(0px 1px 2px rgba(0, 0, 0, 0.3));\n",
              "      fill: #FFFFFF;\n",
              "    }\n",
              "  </style>\n",
              "\n",
              "    <script>\n",
              "      const buttonEl =\n",
              "        document.querySelector('#df-7c5bed15-5887-4f43-ac66-cb56ad57a01a button.colab-df-convert');\n",
              "      buttonEl.style.display =\n",
              "        google.colab.kernel.accessAllowed ? 'block' : 'none';\n",
              "\n",
              "      async function convertToInteractive(key) {\n",
              "        const element = document.querySelector('#df-7c5bed15-5887-4f43-ac66-cb56ad57a01a');\n",
              "        const dataTable =\n",
              "          await google.colab.kernel.invokeFunction('convertToInteractive',\n",
              "                                                    [key], {});\n",
              "        if (!dataTable) return;\n",
              "\n",
              "        const docLinkHtml = 'Like what you see? Visit the ' +\n",
              "          '<a target=\"_blank\" href=https://colab.research.google.com/notebooks/data_table.ipynb>data table notebook</a>'\n",
              "          + ' to learn more about interactive tables.';\n",
              "        element.innerHTML = '';\n",
              "        dataTable['output_type'] = 'display_data';\n",
              "        await google.colab.output.renderOutput(dataTable, element);\n",
              "        const docLink = document.createElement('div');\n",
              "        docLink.innerHTML = docLinkHtml;\n",
              "        element.appendChild(docLink);\n",
              "      }\n",
              "    </script>\n",
              "  </div>\n",
              "\n",
              "\n",
              "    <div id=\"df-2b8f4256-186d-4551-b393-391186123298\">\n",
              "      <button class=\"colab-df-quickchart\" onclick=\"quickchart('df-2b8f4256-186d-4551-b393-391186123298')\"\n",
              "                title=\"Suggest charts\"\n",
              "                style=\"display:none;\">\n",
              "\n",
              "<svg xmlns=\"http://www.w3.org/2000/svg\" height=\"24px\"viewBox=\"0 0 24 24\"\n",
              "     width=\"24px\">\n",
              "    <g>\n",
              "        <path d=\"M19 3H5c-1.1 0-2 .9-2 2v14c0 1.1.9 2 2 2h14c1.1 0 2-.9 2-2V5c0-1.1-.9-2-2-2zM9 17H7v-7h2v7zm4 0h-2V7h2v10zm4 0h-2v-4h2v4z\"/>\n",
              "    </g>\n",
              "</svg>\n",
              "      </button>\n",
              "\n",
              "<style>\n",
              "  .colab-df-quickchart {\n",
              "      --bg-color: #E8F0FE;\n",
              "      --fill-color: #1967D2;\n",
              "      --hover-bg-color: #E2EBFA;\n",
              "      --hover-fill-color: #174EA6;\n",
              "      --disabled-fill-color: #AAA;\n",
              "      --disabled-bg-color: #DDD;\n",
              "  }\n",
              "\n",
              "  [theme=dark] .colab-df-quickchart {\n",
              "      --bg-color: #3B4455;\n",
              "      --fill-color: #D2E3FC;\n",
              "      --hover-bg-color: #434B5C;\n",
              "      --hover-fill-color: #FFFFFF;\n",
              "      --disabled-bg-color: #3B4455;\n",
              "      --disabled-fill-color: #666;\n",
              "  }\n",
              "\n",
              "  .colab-df-quickchart {\n",
              "    background-color: var(--bg-color);\n",
              "    border: none;\n",
              "    border-radius: 50%;\n",
              "    cursor: pointer;\n",
              "    display: none;\n",
              "    fill: var(--fill-color);\n",
              "    height: 32px;\n",
              "    padding: 0;\n",
              "    width: 32px;\n",
              "  }\n",
              "\n",
              "  .colab-df-quickchart:hover {\n",
              "    background-color: var(--hover-bg-color);\n",
              "    box-shadow: 0 1px 2px rgba(60, 64, 67, 0.3), 0 1px 3px 1px rgba(60, 64, 67, 0.15);\n",
              "    fill: var(--button-hover-fill-color);\n",
              "  }\n",
              "\n",
              "  .colab-df-quickchart-complete:disabled,\n",
              "  .colab-df-quickchart-complete:disabled:hover {\n",
              "    background-color: var(--disabled-bg-color);\n",
              "    fill: var(--disabled-fill-color);\n",
              "    box-shadow: none;\n",
              "  }\n",
              "\n",
              "  .colab-df-spinner {\n",
              "    border: 2px solid var(--fill-color);\n",
              "    border-color: transparent;\n",
              "    border-bottom-color: var(--fill-color);\n",
              "    animation:\n",
              "      spin 1s steps(1) infinite;\n",
              "  }\n",
              "\n",
              "  @keyframes spin {\n",
              "    0% {\n",
              "      border-color: transparent;\n",
              "      border-bottom-color: var(--fill-color);\n",
              "      border-left-color: var(--fill-color);\n",
              "    }\n",
              "    20% {\n",
              "      border-color: transparent;\n",
              "      border-left-color: var(--fill-color);\n",
              "      border-top-color: var(--fill-color);\n",
              "    }\n",
              "    30% {\n",
              "      border-color: transparent;\n",
              "      border-left-color: var(--fill-color);\n",
              "      border-top-color: var(--fill-color);\n",
              "      border-right-color: var(--fill-color);\n",
              "    }\n",
              "    40% {\n",
              "      border-color: transparent;\n",
              "      border-right-color: var(--fill-color);\n",
              "      border-top-color: var(--fill-color);\n",
              "    }\n",
              "    60% {\n",
              "      border-color: transparent;\n",
              "      border-right-color: var(--fill-color);\n",
              "    }\n",
              "    80% {\n",
              "      border-color: transparent;\n",
              "      border-right-color: var(--fill-color);\n",
              "      border-bottom-color: var(--fill-color);\n",
              "    }\n",
              "    90% {\n",
              "      border-color: transparent;\n",
              "      border-bottom-color: var(--fill-color);\n",
              "    }\n",
              "  }\n",
              "</style>\n",
              "\n",
              "      <script>\n",
              "        async function quickchart(key) {\n",
              "          const quickchartButtonEl =\n",
              "            document.querySelector('#' + key + ' button');\n",
              "          quickchartButtonEl.disabled = true;  // To prevent multiple clicks.\n",
              "          quickchartButtonEl.classList.add('colab-df-spinner');\n",
              "          try {\n",
              "            const charts = await google.colab.kernel.invokeFunction(\n",
              "                'suggestCharts', [key], {});\n",
              "          } catch (error) {\n",
              "            console.error('Error during call to suggestCharts:', error);\n",
              "          }\n",
              "          quickchartButtonEl.classList.remove('colab-df-spinner');\n",
              "          quickchartButtonEl.classList.add('colab-df-quickchart-complete');\n",
              "        }\n",
              "        (() => {\n",
              "          let quickchartButtonEl =\n",
              "            document.querySelector('#df-2b8f4256-186d-4551-b393-391186123298 button');\n",
              "          quickchartButtonEl.style.display =\n",
              "            google.colab.kernel.accessAllowed ? 'block' : 'none';\n",
              "        })();\n",
              "      </script>\n",
              "    </div>\n",
              "\n",
              "    </div>\n",
              "  </div>\n"
            ],
            "application/vnd.google.colaboratory.intrinsic+json": {
              "type": "dataframe",
              "variable_name": "df",
              "summary": "{\n  \"name\": \"df\",\n  \"rows\": 27901,\n  \"fields\": [\n    {\n      \"column\": \"id\",\n      \"properties\": {\n        \"dtype\": \"number\",\n        \"std\": 40641,\n        \"min\": 2,\n        \"max\": 140699,\n        \"num_unique_values\": 27901,\n        \"samples\": [\n          101205,\n          83727,\n          38395\n        ],\n        \"semantic_type\": \"\",\n        \"description\": \"\"\n      }\n    },\n    {\n      \"column\": \"Gender\",\n      \"properties\": {\n        \"dtype\": \"category\",\n        \"num_unique_values\": 2,\n        \"samples\": [\n          \"Female\",\n          \"Male\"\n        ],\n        \"semantic_type\": \"\",\n        \"description\": \"\"\n      }\n    },\n    {\n      \"column\": \"Age\",\n      \"properties\": {\n        \"dtype\": \"number\",\n        \"std\": 4.90568744892443,\n        \"min\": 18.0,\n        \"max\": 59.0,\n        \"num_unique_values\": 34,\n        \"samples\": [\n          32.0,\n          42.0\n        ],\n        \"semantic_type\": \"\",\n        \"description\": \"\"\n      }\n    },\n    {\n      \"column\": \"City\",\n      \"properties\": {\n        \"dtype\": \"category\",\n        \"num_unique_values\": 52,\n        \"samples\": [\n          \"Ludhiana\",\n          \"Harsh\"\n        ],\n        \"semantic_type\": \"\",\n        \"description\": \"\"\n      }\n    },\n    {\n      \"column\": \"Profession\",\n      \"properties\": {\n        \"dtype\": \"category\",\n        \"num_unique_values\": 14,\n        \"samples\": [\n          \"Chef\",\n          \"Lawyer\"\n        ],\n        \"semantic_type\": \"\",\n        \"description\": \"\"\n      }\n    },\n    {\n      \"column\": \"Academic Pressure\",\n      \"properties\": {\n        \"dtype\": \"number\",\n        \"std\": 1.3814648413276254,\n        \"min\": 0.0,\n        \"max\": 5.0,\n        \"num_unique_values\": 6,\n        \"samples\": [\n          5.0,\n          2.0\n        ],\n        \"semantic_type\": \"\",\n        \"description\": \"\"\n      }\n    },\n    {\n      \"column\": \"Work Pressure\",\n      \"properties\": {\n        \"dtype\": \"number\",\n        \"std\": 0.043992032063926795,\n        \"min\": 0.0,\n        \"max\": 5.0,\n        \"num_unique_values\": 3,\n        \"samples\": [\n          0.0,\n          5.0\n        ],\n        \"semantic_type\": \"\",\n        \"description\": \"\"\n      }\n    },\n    {\n      \"column\": \"CGPA\",\n      \"properties\": {\n        \"dtype\": \"number\",\n        \"std\": 1.470707346207616,\n        \"min\": 0.0,\n        \"max\": 10.0,\n        \"num_unique_values\": 332,\n        \"samples\": [\n          5.74,\n          6.32\n        ],\n        \"semantic_type\": \"\",\n        \"description\": \"\"\n      }\n    },\n    {\n      \"column\": \"Study Satisfaction\",\n      \"properties\": {\n        \"dtype\": \"number\",\n        \"std\": 1.361147955267022,\n        \"min\": 0.0,\n        \"max\": 5.0,\n        \"num_unique_values\": 6,\n        \"samples\": [\n          2.0,\n          5.0\n        ],\n        \"semantic_type\": \"\",\n        \"description\": \"\"\n      }\n    },\n    {\n      \"column\": \"Job Satisfaction\",\n      \"properties\": {\n        \"dtype\": \"number\",\n        \"std\": 0.044394396218617196,\n        \"min\": 0.0,\n        \"max\": 4.0,\n        \"num_unique_values\": 5,\n        \"samples\": [\n          3.0,\n          1.0\n        ],\n        \"semantic_type\": \"\",\n        \"description\": \"\"\n      }\n    },\n    {\n      \"column\": \"Sleep Duration\",\n      \"properties\": {\n        \"dtype\": \"category\",\n        \"num_unique_values\": 5,\n        \"samples\": [\n          \"'Less than 5 hours'\",\n          \"Others\"\n        ],\n        \"semantic_type\": \"\",\n        \"description\": \"\"\n      }\n    },\n    {\n      \"column\": \"Dietary Habits\",\n      \"properties\": {\n        \"dtype\": \"category\",\n        \"num_unique_values\": 4,\n        \"samples\": [\n          \"Moderate\",\n          \"Others\"\n        ],\n        \"semantic_type\": \"\",\n        \"description\": \"\"\n      }\n    },\n    {\n      \"column\": \"Degree\",\n      \"properties\": {\n        \"dtype\": \"category\",\n        \"num_unique_values\": 28,\n        \"samples\": [\n          \"BE\",\n          \"ME\"\n        ],\n        \"semantic_type\": \"\",\n        \"description\": \"\"\n      }\n    },\n    {\n      \"column\": \"Have you ever had suicidal thoughts ?\",\n      \"properties\": {\n        \"dtype\": \"category\",\n        \"num_unique_values\": 2,\n        \"samples\": [\n          \"No\",\n          \"Yes\"\n        ],\n        \"semantic_type\": \"\",\n        \"description\": \"\"\n      }\n    },\n    {\n      \"column\": \"Work/Study Hours\",\n      \"properties\": {\n        \"dtype\": \"number\",\n        \"std\": 3.707642072778702,\n        \"min\": 0.0,\n        \"max\": 12.0,\n        \"num_unique_values\": 13,\n        \"samples\": [\n          5.0,\n          6.0\n        ],\n        \"semantic_type\": \"\",\n        \"description\": \"\"\n      }\n    },\n    {\n      \"column\": \"Financial Stress\",\n      \"properties\": {\n        \"dtype\": \"category\",\n        \"num_unique_values\": 6,\n        \"samples\": [\n          \"1.0\",\n          \"2.0\"\n        ],\n        \"semantic_type\": \"\",\n        \"description\": \"\"\n      }\n    },\n    {\n      \"column\": \"Family History of Mental Illness\",\n      \"properties\": {\n        \"dtype\": \"category\",\n        \"num_unique_values\": 2,\n        \"samples\": [\n          \"Yes\",\n          \"No\"\n        ],\n        \"semantic_type\": \"\",\n        \"description\": \"\"\n      }\n    },\n    {\n      \"column\": \"Depression\",\n      \"properties\": {\n        \"dtype\": \"number\",\n        \"std\": 0,\n        \"min\": 0,\n        \"max\": 1,\n        \"num_unique_values\": 2,\n        \"samples\": [\n          0,\n          1\n        ],\n        \"semantic_type\": \"\",\n        \"description\": \"\"\n      }\n    }\n  ]\n}"
            }
          },
          "metadata": {},
          "execution_count": 2
        }
      ]
    },
    {
      "cell_type": "markdown",
      "source": [],
      "metadata": {
        "id": "0VdO01KlNp7j"
      }
    },
    {
      "cell_type": "code",
      "source": [
        "# Exploracion inicial del dataset\n",
        "\n",
        "#Dimensions\n",
        "\n",
        "dimensiones = df.shape\n",
        "\n",
        "# Informacion general del dataset\n",
        "\n",
        "info = df.info()\n",
        "\n",
        "#Estadisticas descriptivas de las columnas\n",
        "\n",
        "resumen_numerico = df.describe()\n",
        "\n",
        "#Verificacion de valores faltantes\n",
        "valores_nulos = df.isnull().sum\n",
        "\n",
        "dimensiones, info, resumen_numerico, valores_nulos"
      ],
      "metadata": {
        "colab": {
          "base_uri": "https://localhost:8080/"
        },
        "id": "vqtS3dhGvqft",
        "outputId": "9fc92cfa-2c88-4ab0-ffa9-a1ead0fc7ab6"
      },
      "execution_count": null,
      "outputs": [
        {
          "output_type": "stream",
          "name": "stdout",
          "text": [
            "<class 'pandas.core.frame.DataFrame'>\n",
            "Index: 27901 entries, 2 to 140699\n",
            "Data columns (total 17 columns):\n",
            " #   Column                                 Non-Null Count  Dtype  \n",
            "---  ------                                 --------------  -----  \n",
            " 0   Gender                                 27901 non-null  object \n",
            " 1   Age                                    27901 non-null  float64\n",
            " 2   City                                   27901 non-null  object \n",
            " 3   Profession                             27901 non-null  object \n",
            " 4   Academic Pressure                      27901 non-null  float64\n",
            " 5   Work Pressure                          27901 non-null  float64\n",
            " 6   CGPA                                   27901 non-null  float64\n",
            " 7   Study Satisfaction                     27901 non-null  float64\n",
            " 8   Job Satisfaction                       27901 non-null  float64\n",
            " 9   Sleep Duration                         27901 non-null  object \n",
            " 10  Dietary Habits                         27901 non-null  object \n",
            " 11  Degree                                 27901 non-null  object \n",
            " 12  Have you ever had suicidal thoughts ?  27901 non-null  object \n",
            " 13  Work/Study Hours                       27901 non-null  float64\n",
            " 14  Financial Stress                       27901 non-null  object \n",
            " 15  Family History of Mental Illness       27901 non-null  object \n",
            " 16  Depression                             27901 non-null  int64  \n",
            "dtypes: float64(7), int64(1), object(9)\n",
            "memory usage: 3.8+ MB\n"
          ]
        },
        {
          "output_type": "execute_result",
          "data": {
            "text/plain": [
              "((27901, 17),\n",
              " None,\n",
              "                 Age  Academic Pressure  Work Pressure          CGPA  \\\n",
              " count  27901.000000       27901.000000   27901.000000  27901.000000   \n",
              " mean      25.822300           3.141214       0.000430      7.656104   \n",
              " std        4.905687           1.381465       0.043992      1.470707   \n",
              " min       18.000000           0.000000       0.000000      0.000000   \n",
              " 25%       21.000000           2.000000       0.000000      6.290000   \n",
              " 50%       25.000000           3.000000       0.000000      7.770000   \n",
              " 75%       30.000000           4.000000       0.000000      8.920000   \n",
              " max       59.000000           5.000000       5.000000     10.000000   \n",
              " \n",
              "        Study Satisfaction  Job Satisfaction  Work/Study Hours    Depression  \n",
              " count        27901.000000      27901.000000      27901.000000  27901.000000  \n",
              " mean             2.943837          0.000681          7.156984      0.585499  \n",
              " std              1.361148          0.044394          3.707642      0.492645  \n",
              " min              0.000000          0.000000          0.000000      0.000000  \n",
              " 25%              2.000000          0.000000          4.000000      0.000000  \n",
              " 50%              3.000000          0.000000          8.000000      1.000000  \n",
              " 75%              4.000000          0.000000         10.000000      1.000000  \n",
              " max              5.000000          4.000000         12.000000      1.000000  ,\n",
              " <bound method DataFrame.sum of         Gender    Age   City  Profession  Academic Pressure  Work Pressure  \\\n",
              " id                                                                           \n",
              " 2        False  False  False       False              False          False   \n",
              " 8        False  False  False       False              False          False   \n",
              " 26       False  False  False       False              False          False   \n",
              " 30       False  False  False       False              False          False   \n",
              " 32       False  False  False       False              False          False   \n",
              " ...        ...    ...    ...         ...                ...            ...   \n",
              " 140685   False  False  False       False              False          False   \n",
              " 140686   False  False  False       False              False          False   \n",
              " 140689   False  False  False       False              False          False   \n",
              " 140690   False  False  False       False              False          False   \n",
              " 140699   False  False  False       False              False          False   \n",
              " \n",
              "          CGPA  Study Satisfaction  Job Satisfaction  Sleep Duration  \\\n",
              " id                                                                    \n",
              " 2       False               False             False           False   \n",
              " 8       False               False             False           False   \n",
              " 26      False               False             False           False   \n",
              " 30      False               False             False           False   \n",
              " 32      False               False             False           False   \n",
              " ...       ...                 ...               ...             ...   \n",
              " 140685  False               False             False           False   \n",
              " 140686  False               False             False           False   \n",
              " 140689  False               False             False           False   \n",
              " 140690  False               False             False           False   \n",
              " 140699  False               False             False           False   \n",
              " \n",
              "         Dietary Habits  Degree  Have you ever had suicidal thoughts ?  \\\n",
              " id                                                                      \n",
              " 2                False   False                                  False   \n",
              " 8                False   False                                  False   \n",
              " 26               False   False                                  False   \n",
              " 30               False   False                                  False   \n",
              " 32               False   False                                  False   \n",
              " ...                ...     ...                                    ...   \n",
              " 140685           False   False                                  False   \n",
              " 140686           False   False                                  False   \n",
              " 140689           False   False                                  False   \n",
              " 140690           False   False                                  False   \n",
              " 140699           False   False                                  False   \n",
              " \n",
              "         Work/Study Hours  Financial Stress  Family History of Mental Illness  \\\n",
              " id                                                                             \n",
              " 2                  False             False                             False   \n",
              " 8                  False             False                             False   \n",
              " 26                 False             False                             False   \n",
              " 30                 False             False                             False   \n",
              " 32                 False             False                             False   \n",
              " ...                  ...               ...                               ...   \n",
              " 140685             False             False                             False   \n",
              " 140686             False             False                             False   \n",
              " 140689             False             False                             False   \n",
              " 140690             False             False                             False   \n",
              " 140699             False             False                             False   \n",
              " \n",
              "         Depression  \n",
              " id                  \n",
              " 2            False  \n",
              " 8            False  \n",
              " 26           False  \n",
              " 30           False  \n",
              " 32           False  \n",
              " ...            ...  \n",
              " 140685       False  \n",
              " 140686       False  \n",
              " 140689       False  \n",
              " 140690       False  \n",
              " 140699       False  \n",
              " \n",
              " [27901 rows x 17 columns]>)"
            ]
          },
          "metadata": {},
          "execution_count": 7
        }
      ]
    },
    {
      "cell_type": "markdown",
      "source": [
        "### Exploración inicial del dataset\n",
        "\n",
        "Se trabaja con un conjunto de datos compuesto por 27.901 registros y 18 columnas, que contiene información sobre salud mental, presión académica y laboral, rendimiento académico y estilo de vida de estudiantes universitarios.\n",
        "\n",
        "El dataset no presenta valores faltantes en ninguna de sus columnas, lo cual permite trabajar con los datos directamente sin aplicar técnicas de imputación.\n",
        "\n",
        "Las variables numéricas más relevantes como `Edad`, `Horas de estudio/trabajo`, `Horas de sueño`, `Presión académica` y `Promedio académico (CGPA)` muestran una distribución amplia y parecen estar correctamente formateadas.\n",
        "\n",
        "A continuación, se exploran las estadísticas generales del conjunto y se evalúan los tipos de datos.\n"
      ],
      "metadata": {
        "id": "t5hkg77Qw8VQ"
      }
    },
    {
      "cell_type": "code",
      "source": [
        "import seaborn as sns\n",
        "import matplotlib.pyplot as plt\n",
        "\n"
      ],
      "metadata": {
        "id": "VbI8_5TDx7kV"
      },
      "execution_count": null,
      "outputs": []
    },
    {
      "cell_type": "code",
      "source": [
        "df[\"Sleep Duration\"].unique()"
      ],
      "metadata": {
        "colab": {
          "base_uri": "https://localhost:8080/"
        },
        "id": "8Y0O-k7lyS6C",
        "outputId": "c720fc4d-06aa-457c-f110-a129467d4f69"
      },
      "execution_count": null,
      "outputs": [
        {
          "output_type": "execute_result",
          "data": {
            "text/plain": [
              "array([\"'5-6 hours'\", \"'Less than 5 hours'\", \"'7-8 hours'\",\n",
              "       \"'More than 8 hours'\", 'Others'], dtype=object)"
            ]
          },
          "metadata": {},
          "execution_count": 11
        }
      ]
    },
    {
      "cell_type": "code",
      "source": [
        "# Limpiaremos las comillas simples de los valores\n",
        "\n",
        "df[\"Sleep Duration\"] = df[\"Sleep Duration\"].str.replace(\"'\", \"\")\n",
        "\n",
        "# Definiremos un orden logico\n",
        "orden_sueño = ['Less than 5 hours', '5-6 hours', '7-8 hours', 'More than 8 hours', 'Others']\n",
        "\n",
        "#Convertir a categoria ordenada\n",
        "df[\"Sleep Duration\"] = pd.Categorical(df[\"Sleep Duration\"], categories=orden_sueño, ordered=True)\n",
        "\n",
        "#Revisaremos como quedo\n",
        "df['Sleep Duration'].value_counts().sort_index()"
      ],
      "metadata": {
        "colab": {
          "base_uri": "https://localhost:8080/",
          "height": 273
        },
        "id": "IIjgCl1LyapW",
        "outputId": "2ca603d8-b6e9-4855-a265-66859daad318"
      },
      "execution_count": null,
      "outputs": [
        {
          "output_type": "execute_result",
          "data": {
            "text/plain": [
              "Sleep Duration\n",
              "Less than 5 hours    8310\n",
              "5-6 hours            6183\n",
              "7-8 hours            7346\n",
              "More than 8 hours    6044\n",
              "Others                 18\n",
              "Name: count, dtype: int64"
            ],
            "text/html": [
              "<div>\n",
              "<style scoped>\n",
              "    .dataframe tbody tr th:only-of-type {\n",
              "        vertical-align: middle;\n",
              "    }\n",
              "\n",
              "    .dataframe tbody tr th {\n",
              "        vertical-align: top;\n",
              "    }\n",
              "\n",
              "    .dataframe thead th {\n",
              "        text-align: right;\n",
              "    }\n",
              "</style>\n",
              "<table border=\"1\" class=\"dataframe\">\n",
              "  <thead>\n",
              "    <tr style=\"text-align: right;\">\n",
              "      <th></th>\n",
              "      <th>count</th>\n",
              "    </tr>\n",
              "    <tr>\n",
              "      <th>Sleep Duration</th>\n",
              "      <th></th>\n",
              "    </tr>\n",
              "  </thead>\n",
              "  <tbody>\n",
              "    <tr>\n",
              "      <th>Less than 5 hours</th>\n",
              "      <td>8310</td>\n",
              "    </tr>\n",
              "    <tr>\n",
              "      <th>5-6 hours</th>\n",
              "      <td>6183</td>\n",
              "    </tr>\n",
              "    <tr>\n",
              "      <th>7-8 hours</th>\n",
              "      <td>7346</td>\n",
              "    </tr>\n",
              "    <tr>\n",
              "      <th>More than 8 hours</th>\n",
              "      <td>6044</td>\n",
              "    </tr>\n",
              "    <tr>\n",
              "      <th>Others</th>\n",
              "      <td>18</td>\n",
              "    </tr>\n",
              "  </tbody>\n",
              "</table>\n",
              "</div><br><label><b>dtype:</b> int64</label>"
            ]
          },
          "metadata": {},
          "execution_count": 12
        }
      ]
    },
    {
      "cell_type": "code",
      "source": [
        "#Agrupar y calcular proporcion de estudiantes con depresion por grupo de sueno\n",
        "sleep_dep = df.groupby('Sleep Duration')['Depression'].mean().sort_index()\n",
        "\n",
        "# crearemos un boxplot\n",
        "plt.figure(figsize=(8,5))\n",
        "sns.barplot(x=sleep_dep.index, y=sleep_dep.values)\n",
        "\n",
        "#Titulo y etiquetas\n",
        "plt.title('Porcentaje de estudiantes con depresión según horas de sueño')\n",
        "plt.ylabel('Proporción con depresión')\n",
        "plt.xlabel('Horas de sueño')\n",
        "plt.ylim(0, 1)\n",
        "plt.xticks(rotation=20)\n",
        "plt.show()"
      ],
      "metadata": {
        "colab": {
          "base_uri": "https://localhost:8080/",
          "height": 565
        },
        "id": "IHW9McavzUhj",
        "outputId": "896d392d-c10e-4171-e55c-d69ac9b7348b"
      },
      "execution_count": null,
      "outputs": [
        {
          "output_type": "stream",
          "name": "stderr",
          "text": [
            "<ipython-input-14-355a6cb35f2c>:2: FutureWarning: The default of observed=False is deprecated and will be changed to True in a future version of pandas. Pass observed=False to retain current behavior or observed=True to adopt the future default and silence this warning.\n",
            "  sleep_dep = df.groupby('Sleep Duration')['Depression'].mean().sort_index()\n"
          ]
        },
        {
          "output_type": "display_data",
          "data": {
            "text/plain": [
              "<Figure size 800x500 with 1 Axes>"
            ],
            "image/png": "[encoded data removed]"
          },
          "metadata": {}
        }
      ]
    },
    {
      "cell_type": "markdown",
      "source": [
        "### Interpretación del gráfico\n",
        "\n",
        "El gráfico muestra la proporción de estudiantes que presentan síntomas de depresión según la cantidad de horas que duermen. Se observa una tendencia clara: **a menor cantidad de sueño, mayor es el porcentaje de estudiantes con depresión**.\n",
        "\n",
        "- Aquellos que duermen **menos de 5 horas** tienen un índice de depresión superior al 60%.\n",
        "- El grupo que duerme **más de 8 horas** presenta la proporción más baja (alrededor del 50%).\n",
        "- Incluso en los grupos de 5-6 y 7-8 horas, la prevalencia de depresión sigue siendo significativa.\n",
        "\n",
        "Este resultado respalda la hipótesis planteada: **los estudiantes con menos horas de sueño tienden a reportar mayores niveles de depresión**, lo cual puede estar relacionado con una sobrecarga académica, estrés, o desregulación del ritmo de vida.\n",
        "\n",
        "Este patrón sugiere que **la calidad y cantidad de sueño puede ser un factor clave a considerar en intervenciones de salud mental para estudiantes**.\n",
        "\n"
      ],
      "metadata": {
        "id": "3zN3iLVD1XHL"
      }
    },
    {
      "cell_type": "markdown",
      "source": [],
      "metadata": {
        "id": "8gJUFtqEQUBo"
      }
    },
    {
      "cell_type": "code",
      "source": [
        "#¿Existe una diferencia en la frecuencia de pensamientos suicidas según el género?\n",
        "\n",
        "df['Gender'].unique(), df['Have you ever had suicidal thoughts ?'].unique()"
      ],
      "metadata": {
        "colab": {
          "base_uri": "https://localhost:8080/"
        },
        "id": "DFbCTve-QU_k",
        "outputId": "14c0eea0-15c3-45ab-ff36-4f132b8d4c58"
      },
      "execution_count": null,
      "outputs": [
        {
          "output_type": "execute_result",
          "data": {
            "text/plain": [
              "(array(['Male', 'Female'], dtype=object), array(['Yes', 'No'], dtype=object))"
            ]
          },
          "metadata": {},
          "execution_count": 4
        }
      ]
    },
    {
      "cell_type": "code",
      "source": [
        "plt.figure(figsize=(8,5))\n",
        "sns.countplot(data=df, x='Gender', hue='Have you ever had suicidal thoughts ?')\n",
        "\n",
        "\n",
        "plt.title('Pensamientos suicidas segun genero')\n",
        "plt.xlabel('Genero')\n",
        "plt.ylabel('Cantidad de estudiantes')\n",
        "plt.legend(title='¿Pensamientos suicidas?')\n",
        "plt.show()"
      ],
      "metadata": {
        "colab": {
          "base_uri": "https://localhost:8080/",
          "height": 487
        },
        "id": "yBvkwH8hRT4U",
        "outputId": "f662c460-66e8-40c7-cdd5-ef3605888a42"
      },
      "execution_count": null,
      "outputs": [
        {
          "output_type": "display_data",
          "data": {
            "text/plain": [
              "<Figure size 800x500 with 1 Axes>"
            ],
            "image/png": "[encoded data removed]"
          },
          "metadata": {}
        }
      ]
    },
    {
      "cell_type": "markdown",
      "source": [
        "### Interpretación del gráfico\n",
        "\n",
        "El gráfico compara la cantidad de estudiantes que han tenido pensamientos suicidas según su género. Se observa que en ambos grupos hay una proporción importante de respuestas afirmativas, sin embargo, **la cantidad total es mayor en estudiantes varones**.\n",
        "\n",
        "Este resultado sugiere que, al menos en este conjunto de datos, **los hombres reportan con más frecuencia pensamientos suicidas**, lo cual es un dato relevante para diseñar estrategias de prevención que consideren el género como un factor a analizar.\n",
        "\n",
        "Es importante destacar que estos datos no implican causalidad, pero **sí permiten visibilizar la magnitud del problema y su distribución entre distintos grupos**.\n"
      ],
      "metadata": {
        "id": "kErKuXyqUMnZ"
      }
    },
    {
      "cell_type": "code",
      "source": [
        "#¿Cómo se relacionan la presión académica, la presión laboral y el promedio académico?\n",
        "#Y más importante aún:\n",
        "#¿El promedio baja cuando el estudiante tiene ambas presiones altas?\n",
        "\n",
        "#clasificar presion academica\n",
        "df['Academic Pressure Level'] = df['Academic Pressure'].apply(\n",
        "    lambda x: 'Alta' if x >= 4 else 'Media' if x == 3 else 'Baja'\n",
        ")\n",
        "\n",
        "# Clasificar presión laboral: 0 = No hay, ≥1 = Hay\n",
        "df['Work Pressure Level'] = df['Work Pressure'].apply(\n",
        "    lambda x: 'Sí' if x > 0 else 'No'\n",
        ")"
      ],
      "metadata": {
        "id": "rhFDIbjiacLB"
      },
      "execution_count": null,
      "outputs": []
    },
    {
      "cell_type": "code",
      "source": [
        "plt.figure(figsize=(8, 5))\n",
        "sns.boxplot(data=df, x='Academic Pressure Level', y='CGPA')\n",
        "\n",
        "plt.title('Promedio académico según presión académica')\n",
        "plt.xlabel('Nivel de presión académica')\n",
        "plt.ylabel('Promedio general (CGPA)')\n",
        "plt.show()\n"
      ],
      "metadata": {
        "colab": {
          "base_uri": "https://localhost:8080/",
          "height": 488
        },
        "id": "TMsvvUdLaycK",
        "outputId": "d47de885-fc04-4d6f-bca6-9925c0e608e7"
      },
      "execution_count": null,
      "outputs": [
        {
          "output_type": "display_data",
          "data": {
            "text/plain": [
              "<Figure size 800x500 with 1 Axes>"
            ],
            "image/png": "[encoded data removed]"
          },
          "metadata": {}
        }
      ]
    },
    {
      "cell_type": "markdown",
      "source": [
        "### Interpretación del gráfico\n",
        "\n",
        "El gráfico muestra la distribución del promedio académico (`CGPA`) según el nivel de presión académica percibido por los estudiantes.\n",
        "\n",
        "A simple vista, se observa que **las medianas del promedio académico son similares entre los distintos niveles de presión académica**, lo que sugiere que la presión no afecta de manera directa o inmediata al rendimiento promedio.\n",
        "\n",
        "Sin embargo, también se puede ver que **la dispersión en los promedios es mayor en el grupo con presión académica alta**, con más valores extremos (outliers) en la zona baja del rendimiento (menores a 2 o incluso 0).\n",
        "\n",
        "Esto podría indicar que, aunque muchos estudiantes logran mantener el rendimiento bajo presión, **otros se ven significativamente afectados, bajando su desempeño**.\n",
        "\n",
        "Por lo tanto, este análisis permite plantear que **la presión académica no necesariamente reduce el promedio en todos los casos**, pero sí **puede aumentar la probabilidad de rendimientos muy bajos en una parte de los estudiantes**.\n"
      ],
      "metadata": {
        "id": "OJPrQDKNc8qj"
      }
    }
  ]
}